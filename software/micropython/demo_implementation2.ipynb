{
 "cells": [
  {
   "cell_type": "markdown",
   "id": "e07dc59f-3852-45e4-b422-561e33e0dbf1",
   "metadata": {},
   "source": [
    "## This is a notebook to demo micropython"
   ]
  },
  {
   "cell_type": "code",
   "execution_count": 5,
   "id": "4611442d-bcd8-42ad-a3ce-67e22cb0970e",
   "metadata": {},
   "outputs": [
    {
     "name": "stdout",
     "output_type": "stream",
     "text": [
      "\u001b[31m\n",
      "\n",
      "***Connection broken [Input/output error]\n",
      "\u001b[0mYou may need to reconnect\u001b[34m\n",
      "Closing serial Serial<id=0x7fbbcda0ed90, open=True>(port='/dev/ttyUSB0', baudrate=115200, bytesize=8, parity='N', stopbits=1, timeout=0.5, xonxoff=False, rtscts=False, dsrdtr=False)\n",
      "\u001b[0m\u001b[34mConnecting to --port=/dev/ttyUSB1 --baud=115200 \u001b[0m\n",
      "\u001b[34mReady.\n",
      "\u001b[0m"
     ]
    }
   ],
   "source": [
    "\n",
    "#connect to micropython board\n",
    "#%serialconnect to --port=com4 --baud=115200\n",
    "%serialconnect to --port=/dev/ttyUSB1 --baud=115200\n",
    "\n",
    "\n",
    "\n",
    "\n"
   ]
  },
  {
   "cell_type": "code",
   "execution_count": 6,
   "id": "300ded87-80e2-4ce7-8dbf-bc5c9f71e44b",
   "metadata": {},
   "outputs": [],
   "source": [
    "#import necessary libraries on the esp32\n",
    "from machine import Pin\n",
    "from machine import PWM\n",
    "import time\n",
    "import math"
   ]
  },
  {
   "cell_type": "code",
   "execution_count": 3,
   "id": "3f042494-ca64-495c-aea3-b6b5d98af25e",
   "metadata": {},
   "outputs": [
    {
     "name": "stderr",
     "output_type": "stream",
     "text": [
      "Traceback (most recent call last):\n",
      "  File \"<stdin>\", line 38, in <module>\n",
      "ValueError: out of PWM channels\n"
     ]
    }
   ],
   "source": [
    "#define pins and their functions\n",
    "\n",
    "#port 1 on the controller box\n",
    "led1Pin = 19\n",
    "led2Pin = 21\n",
    "led3Pin = 14\n",
    "led4Pin = 27\n",
    "led5Pin = 26\n",
    "led6Pin = 25\n",
    "\n",
    "#port 2 on the controller box\n",
    "led7Pin = 15\n",
    "led8Pin = 2\n",
    "led9Pin = 16\n",
    "led10Pin = 17\n",
    "led11Pin = 22\n",
    "led12Pin = 23\n",
    "\n",
    "\n",
    "triggerPin = 18 \n",
    "trigger = Pin(triggerPin, Pin.OUT)\n",
    "\n",
    "#the refresh rate frequency of the PWM signals\n",
    "pwmFreq = 1000\n",
    "#resolution of the pwm in bits (will lead to a number of light intensity steps)\n",
    "resolution = 10\n",
    "\n",
    "#note: the lines below could be done in a loop, but would become more criptic\n",
    "#check https://docs.micropython.org/en/latest/esp32/tutorial/pwm.html#esp32-pwm\n",
    "# for details\n",
    "\n",
    "pwmFreq = 50  # Hz\n",
    "intensity = 0# 6.25%\n",
    "allLeds = (led1Pin,led2Pin, led3Pin,led4Pin,led5Pin,led6Pin,\n",
    "           led7Pin,led8Pin,led9Pin,led10Pin,led11Pin,led12Pin)\n",
    "pwms = []\n",
    "for pin in allLeds:\n",
    "    pwms.append(PWM(Pin(pin), freq=pwmFreq, duty= intensity))\n",
    "\n",
    "\n",
    "#all led pins are set to PWM so we can control the LED intensity\n",
    "#ed1 = machine.PWM(machine.Pin(led1Pin), freq=pwmFreq,resolution = resolution, mode=0, channel=0, timer=0)\n",
    "#led2 = machine.PWM(machine.Pin(led2Pin), freq=pwmFreq,resolution = resolution,timer=0)\n",
    "#led3 = machine.PWM(machine.Pin(led3Pin), freq=pwmFreq,resolution = resolution,timer=0)\n",
    "#led4 = machine.PWM(machine.Pin(led4Pin), freq=pwmFreq,resolution = resolution,timer=0)\n",
    "#led5 = machine.PWM(machine.Pin(led5Pin), freq=pwmFreq,resolution = resolution,timer=0)\n",
    "#led6 = machine.PWM(machine.Pin(led6Pin), freq=pwmFreq,resolution = resolution,timer=0)\n",
    "\n",
    "#led7 = machine.PWM(machine.Pin(led7Pin), freq=pwmFreq,resolution = resolution,timer=1)\n",
    "#led8 = machine.PWM(machine.Pin(led8Pin), freq=pwmFreq,resolution = resolution,timer=1)\n",
    "#led9 = machine.PWM(machine.Pin(led9Pin), freq=pwmFreq,resolution = resolution,timer=1)\n",
    "#led10 = machine.PWM(machine.Pin(led10Pin), freq=pwmFreq,resolution = resolution,timer=1)\n",
    "#led11 = machine.PWM(machine.Pin(led11Pin), freq=pwmFreq,resolution = resolution,timer=1)\n",
    "#led12 = machine.PWM(machine.Pin(led12Pin), freq=pwmFreq,resolution = resolution,timer=1)\n",
    "\n",
    "#make a list with all leds so that it is easier to control all of them with loops\n",
    "#allLeds = [led1,led2,led3,led4,led5,led6,led7,led8,led9,led10,led11,led12]\n",
    "\n",
    "#turn all leds off for good measure\n",
    "#for led in allLeds:\n",
    "#    led.duty(0)\n",
    "\n",
    "    \n",
    "\n"
   ]
  },
  {
   "cell_type": "code",
   "execution_count": 4,
   "id": "463dbe44-a3a0-44df-b692-9f3567164c24",
   "metadata": {},
   "outputs": [
    {
     "name": "stdout",
     "output_type": "stream",
     "text": [
      "[PWM(19, freq=50, duty=0), PWM(21, freq=50, duty=0), PWM(14, freq=50, duty=0), PWM(27, freq=50, duty=0), PWM(26, freq=50, duty=0), PWM(25, freq=50, duty=0), PWM(15, freq=50, duty=0), PWM(2, freq=50, duty=0)]\n"
     ]
    }
   ],
   "source": [
    "print(pwms)"
   ]
  },
  {
   "cell_type": "code",
   "execution_count": 7,
   "id": "b938d47e-f859-4f5d-85b3-a6c23ee3ce19",
   "metadata": {},
   "outputs": [
    {
     "name": "stdout",
     "output_type": "stream",
     "text": [
      "PWM(15, freq=100, duty=512)\n",
      "PWM(2, freq=100, duty=0)\n",
      "PWM(4, freq=200, duty=0)\n",
      "PWM(16, freq=200, duty=0)\n",
      "PWM(18, freq=300, duty=0)\n",
      "PWM(19, freq=300, duty=0)\n",
      "PWM(25, freq=400, duty=0)\n",
      "PWM(22, freq=400, duty=512)\n"
     ]
    },
    {
     "name": "stderr",
     "output_type": "stream",
     "text": [
      "Traceback (most recent call last):\n",
      "  File \"<stdin>\", line 11, in <module>\n",
      "ValueError: out of PWM channels\n"
     ]
    }
   ],
   "source": [
    "from machine import Pin, PWM\n",
    "\n",
    "\n",
    "\n",
    "try:\n",
    "    f = 100  # Hz\n",
    "    d = 1024 // 16  # 6.25%\n",
    "    pins = (15, 2, 4, 16, 18, 19, 25,22, 23, 26, 27, 14 , 12, 13, 32, 33)\n",
    "    pwms = []\n",
    "    for i, pin in enumerate(pins):\n",
    "        pwms.append(PWM(Pin(pin), freq=f * (i // 2 + 1), duty= 1023 if i==15 else d * (i + 1),))\n",
    "        print(pwms[i])\n",
    "finally:\n",
    "    for pwm in pwms:\n",
    "        try:\n",
    "            pwm.deinit()\n",
    "        except:\n",
    "            pass\n"
   ]
  },
  {
   "cell_type": "code",
   "execution_count": 9,
   "id": "c49b150c-efba-4ec1-8602-129067f0e0bd",
   "metadata": {},
   "outputs": [],
   "source": [
    "#support functions needed for protocol\n",
    "#def count_time(counter=1000,trigger=0,triggerInterval = 500):\n",
    "#    start = time.ticks_ms() # get millisecond counter\n",
    "#    stop = start[:]\n",
    "#    while stop-start<counter:\n",
    "#        \n",
    "#        if trigger==1:\n",
    "#            if math.fmod(stop-start,triggerInterval)==0:\n",
    "#                trigger.value(1)\n",
    "#            \n",
    "#        stop = time.ticks_ms()    "
   ]
  },
  {
   "cell_type": "code",
   "execution_count": null,
   "id": "bd916e99-4387-468b-a19e-df5358a79c76",
   "metadata": {},
   "outputs": [],
   "source": [
    "#stimulation protocol \n",
    "\n",
    "#turn all leds on and off in turns.\n",
    "\n",
    "#interval to send triggers in ms\n",
    "triggerInterval = 500\n",
    "#baseline interval in ms\n",
    "baseline = 5*1000\n",
    "#duration of the on phase per led in ms\n",
    "onPhase = 3*1000\n",
    "#duration of the off phase per led in ms\n",
    "offPhase = 3*1000\n",
    "#number of repetitions of the entire stimulus (aka trials)\n",
    "repetitions = 5\n",
    "\n",
    "\n",
    "\n"
   ]
  },
  {
   "cell_type": "code",
   "execution_count": null,
   "id": "e81b4fa4-119f-478c-8c96-a504365449e8",
   "metadata": {},
   "outputs": [],
   "source": [
    "#actually start stimulation\n",
    "\n",
    "#this makes the program wait for the baseline period.\n",
    "#this is here so that users can start their recording system, than run this cell, \n",
    "#which will lead to a baseline recording at the beginning of their recorded traces\n",
    "\n",
    "###NOTE PORT THE TRIGGER TIMERS TO MICROSECONDS SO THAT TRIGGERS ARE PRECISE ENOUGH\n",
    "\n",
    "count_time(baseline)\n",
    "for rep in repetitions:\n",
    "    for led in allLeds:\n",
    "        \n",
    "        led.duty(1024)\n",
    "        start = time.ticks_ms()   \n",
    "        stop = time.tick_ms()\n",
    "        triggerTimer1 = time.ticks()\n",
    "        triggerTimer2 = time.ticks()\n",
    "        \n",
    "        while stop-start<onPhase:\n",
    "            stop = time.tick_ms()\n",
    "            if triggerTimer2-triggerTimer1>0 and triggerTimer2-triggerTimer1<=100:\n",
    "                trigger.value(1)\n",
    "            if triggerTimer2-triggerTimer1 >= 50:\n",
    "                trigger.value(0)\n",
    "            if triggerTimer2-triggerTimer1 >= 500:\n",
    "                triggerTimer1 = time.ticks_ms()\n",
    "                triggerTimer2 = time.ticks_ms()\n",
    "            \n",
    "            triggerTimer2 = time.tick_ms()\n",
    "        \n",
    "        led.duty(0)\n",
    "        start = time.ticks_ms()   \n",
    "        stop = time.tick_ms()\n",
    "        triggerTimer1 = time.ticks()\n",
    "        triggerTimer2 = time.ticks()\n",
    "        \n",
    "        while stop-start<onPhase:\n",
    "            stop = time.tick_ms()\n",
    "            if triggerTimer2-triggerTimer1>0 and triggerTimer2-triggerTimer1<=100:\n",
    "                trigger.value(1)\n",
    "            if triggerTimer2-triggerTimer1 >= 50:\n",
    "                trigger.value(0)\n",
    "            if triggerTimer2-triggerTimer1 >= 500:\n",
    "                triggerTimer1 = time.ticks_ms()\n",
    "                triggerTimer2 = time.ticks_ms()\n",
    "            \n",
    "            triggerTimer2 = time.tick_ms()\n",
    "        \n",
    "        "
   ]
  }
 ],
 "metadata": {
  "kernelspec": {
   "display_name": "MicroPython - USB",
   "language": "micropython",
   "name": "micropython"
  },
  "language_info": {
   "codemirror_mode": "python",
   "file_extension": ".py",
   "mimetype": "text/python",
   "name": "micropython"
  }
 },
 "nbformat": 4,
 "nbformat_minor": 5
}

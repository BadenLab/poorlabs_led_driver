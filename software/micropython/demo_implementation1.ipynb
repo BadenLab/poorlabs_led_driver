{
 "cells": [
  {
   "cell_type": "markdown",
   "source": [
    "### Demo on how to run stimulus on the Poorlabs system\n",
    "\n",
    "created by Chagas AM 16/12/2021\n",
    "Distributed under CC BY SA 4.0"
   ],
   "metadata": {}
  },
  {
   "cell_type": "code",
   "execution_count": 26,
   "source": [
    "#%esptool  --port=com4 erase\r\n",
    "#%esptool --port=COM4 esp32 \".//esp32-20210902-v1.17.bin\""
   ],
   "outputs": [],
   "metadata": {}
  },
  {
   "cell_type": "code",
   "execution_count": 27,
   "source": [
    "#reboot board\r\n",
    "%rebootdevice\r\n",
    "#connect to micropython board\r\n",
    "%serialconnect to --port=com4 --baud=115200\r\n",
    "\r\n",
    "\r\n",
    "\r\n",
    "\r\n"
   ],
   "outputs": [
    {
     "output_type": "stream",
     "name": "stdout",
     "text": [
      "repl is in normal command mode\n",
      "[\\r\\x03\\x03] b'\\r\\nMicroPython v1.17 on 2021-09-02; ESP32 module with ESP32\\r\\nType \"help()\" for more information.\\r\\n>>> \\r\\n>>> \\r\\nMPY: soft reboot\\r\\nMicroPython v1.17 on 2021-09-02; ESP32 module with ESP32\\r\\nType \"help()\" for more information.\\r\\n>>> \\r\\n>>> \\r\\n>>> '\n",
      "[\\r\\x01] b'\\r\\n>>> \\r\\nraw REPL; CTRL-B to exit\\r\\n>'\u001b[34mConnecting to --port=com4 --baud=115200 \u001b[0m\n",
      "MicroPython v1.17 on 2021-09-02; ESP32 module with ESP32\n",
      "Type \"help()\" for more information.\n",
      ">>>[reboot detected 0]repl is in normal command mode\n",
      "[\\r\\x03\\x03] b'\\r\\n>>> '\n",
      "[\\r\\x01] b'\\r\\n>>> \\r\\nraw REPL; CTRL-B to exit\\r\\n>' \u001b[34mReady.\n",
      "\u001b[0m"
     ]
    }
   ],
   "metadata": {}
  },
  {
   "cell_type": "markdown",
   "source": [
    "#### Updating the code on the board:\n",
    "\n",
    "The code in the cell below shows how to send files on the host computer to the micropython board, reboot the board and show its contents"
   ],
   "metadata": {}
  },
  {
   "cell_type": "code",
   "execution_count": 28,
   "source": [
    "#send files to board\r\n",
    "%sendtofile --source=\"ports.py\" \"ports.py\"\r\n",
    "%sendtofile --source=\"esp32_rmt_pwm.py\" \"esp32_rmt_pwm.py\"\r\n",
    "%sendtofile --source=\"full_field_flicker.py\" \"full_field_flicker.py\"\r\n",
    "%sendtofile --source=\"support.py\" \"support.py\"\r\n",
    "\r\n",
    "#reboot board\r\n",
    "%rebootdevice\r\n",
    "\r\n",
    "#print board contents\r\n",
    "%ls"
   ],
   "outputs": [
    {
     "output_type": "stream",
     "name": "stdout",
     "text": [
      "Sent 40 lines (1331 bytes) to support.py.\n",
      "repl is in normal command mode\n",
      "[\\r\\x03\\x03] b'\\r\\nMicroPython v1.17 on 2021-09-02; ESP32 module with ESP32\\r\\nType \"help()\" for more information.\\r\\n>>> \\r\\n>>> \\r\\nMPY: soft reboot\\r\\nMicroPython v1.17 on 2021-09-02; ESP32 module with ESP32\\r\\nType \"help()\" for more information.\\r\\n>>> \\r\\n>>> \\r\\n>>> '\n",
      "[\\r\\x01] b'\\r\\n>>> \\r\\nraw REPL; CTRL-B to exit\\r\\n>'Listing directory '/'.\n",
      "      139    boot.py\n",
      "     1759    esp32_rmt_pwm.py\n",
      "     2266    full_field_flicker.py\n",
      "     2485    ports.py\n",
      "     1331    support.py\n"
     ]
    }
   ],
   "metadata": {}
  },
  {
   "cell_type": "code",
   "execution_count": 29,
   "source": [
    "#import the FFF stimulus on the esp32\r\n",
    "import full_field_flicker as fff\r\n"
   ],
   "outputs": [],
   "metadata": {}
  },
  {
   "cell_type": "code",
   "execution_count": 30,
   "source": [
    "stimulus = fff.FFF()\r\n",
    "\r\n"
   ],
   "outputs": [],
   "metadata": {}
  },
  {
   "cell_type": "code",
   "execution_count": 31,
   "source": [
    "stimulus.baseline = 1*1000 #baseline interval in ms\r\n",
    "stimulus.onDuration  = 1*1000 #amount time each led is on in ms\r\n",
    "stimulus.offDuration = 1*1000 #amount time each led is off in ms\r\n",
    "stimulus.trials = 1 #number of trials"
   ],
   "outputs": [],
   "metadata": {}
  },
  {
   "cell_type": "code",
   "execution_count": 32,
   "source": [
    "stimulus.start()"
   ],
   "outputs": [
    {
     "output_type": "stream",
     "name": "stdout",
     "text": [
      "starting baseline... done baseline\n",
      "start trial 0\n",
      "LED on info:  PWM(19, freq=1000, duty=0) LED on info:  PWM(21, freq=1000, duty=0) LED on info:  PWM(14, freq=1000, duty=0) LED on info:  PWM(27, freq=1000, duty=0) LED on info:  PWM(26, freq=1000, duty=0) .LED on info:  PWM(25, freq=1000, duty=0) LED on info:  <PWM object at 3ffe6cc0>\n",
      "LED on info:  <PWM object at 3ffe6d50>\n",
      "LED on info:  <PWM object at 3ffe6f10>\n",
      ".LED on info:  <PWM object at 3ffe6f20>\n",
      "LED on info:  <PWM object at 3ffe7040>\n",
      "LED on info:  <PWM object at 3ffe7050>\n",
      ".end trial <PWM object at 3ffe7050>\n",
      "full field stimulation done\n"
     ]
    }
   ],
   "metadata": {}
  }
 ],
 "metadata": {
  "kernelspec": {
   "display_name": "MicroPython - USB",
   "language": "micropython",
   "name": "micropython"
  },
  "language_info": {
   "codemirror_mode": "python",
   "file_extension": ".py",
   "mimetype": "text/python",
   "name": "micropython"
  }
 },
 "nbformat": 4,
 "nbformat_minor": 5
}
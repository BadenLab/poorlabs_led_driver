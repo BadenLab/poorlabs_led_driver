{
 "cells": [
  {
   "cell_type": "markdown",
   "id": "78ccb2a8-d8bc-4678-ac84-e55d2e0e839c",
   "metadata": {},
   "source": [
    "### Demo on how to run stimulus on the Poorlabs system\n",
    "\n",
    "created by Chagas AM 16/12/2021\n",
    "Distributed under CC BY SA 4.0"
   ]
  },
  {
   "cell_type": "code",
   "execution_count": 26,
   "id": "03739dbf-b8a0-4801-9616-985638cee411",
   "metadata": {},
   "outputs": [],
   "source": [
    "#%esptool  --port=com4 erase\n",
    "#%esptool --port=COM4 esp32 \".//esp32-20210902-v1.17.bin\""
   ]
  },
  {
   "cell_type": "code",
   "execution_count": 27,
   "id": "4611442d-bcd8-42ad-a3ce-67e22cb0970e",
   "metadata": {},
   "outputs": [
    {
     "name": "stdout",
     "output_type": "stream",
     "text": [
      "repl is in normal command mode\n",
      "[\\r\\x03\\x03] b'\\r\\nMicroPython v1.17 on 2021-09-02; ESP32 module with ESP32\\r\\nType \"help()\" for more information.\\r\\n>>> \\r\\n>>> \\r\\nMPY: soft reboot\\r\\nMicroPython v1.17 on 2021-09-02; ESP32 module with ESP32\\r\\nType \"help()\" for more information.\\r\\n>>> \\r\\n>>> \\r\\n>>> '\n",
      "[\\r\\x01] b'\\r\\n>>> \\r\\nraw REPL; CTRL-B to exit\\r\\n>'\u001b[34mConnecting to --port=com4 --baud=115200 \u001b[0m\n",
      "MicroPython v1.17 on 2021-09-02; ESP32 module with ESP32\n",
      "Type \"help()\" for more information.\n",
      ">>>[reboot detected 0]repl is in normal command mode\n",
      "[\\r\\x03\\x03] b'\\r\\n>>> '\n",
      "[\\r\\x01] b'\\r\\n>>> \\r\\nraw REPL; CTRL-B to exit\\r\\n>' \u001b[34mReady.\n",
      "\u001b[0m"
     ]
    }
   ],
   "source": [
    "#reboot board\n",
    "%rebootdevice\n",
    "#connect to micropython board\n",
    "%serialconnect to --port=com4 --baud=115200\n",
    "\n",
    "\n",
    "\n",
    "\n"
   ]
  },
  {
   "cell_type": "markdown",
   "id": "fd5218b4-7fc2-4b56-a953-3fc8b5ee67c1",
   "metadata": {},
   "source": [
    "#### Updating the code on the board:\n",
    "\n",
    "The code in the cell below shows how to send files on the host computer to the micropython board, reboot the board and show its contents"
   ]
  },
  {
   "cell_type": "code",
   "execution_count": 28,
   "id": "7cc04916-72d2-4eac-873f-9ed79746b85e",
   "metadata": {},
   "outputs": [
    {
     "name": "stdout",
     "output_type": "stream",
     "text": [
      "Sent 40 lines (1331 bytes) to support.py.\n",
      "repl is in normal command mode\n",
      "[\\r\\x03\\x03] b'\\r\\nMicroPython v1.17 on 2021-09-02; ESP32 module with ESP32\\r\\nType \"help()\" for more information.\\r\\n>>> \\r\\n>>> \\r\\nMPY: soft reboot\\r\\nMicroPython v1.17 on 2021-09-02; ESP32 module with ESP32\\r\\nType \"help()\" for more information.\\r\\n>>> \\r\\n>>> \\r\\n>>> '\n",
      "[\\r\\x01] b'\\r\\n>>> \\r\\nraw REPL; CTRL-B to exit\\r\\n>'Listing directory '/'.\n",
      "      139    boot.py\n",
      "     1759    esp32_rmt_pwm.py\n",
      "     2266    full_field_flicker.py\n",
      "     2485    ports.py\n",
      "     1331    support.py\n"
     ]
    }
   ],
   "source": [
    "#send files to board\n",
    "%sendtofile --source=\"ports.py\" \"ports.py\"\n",
    "%sendtofile --source=\"esp32_rmt_pwm.py\" \"esp32_rmt_pwm.py\"\n",
    "%sendtofile --source=\"full_field_flicker.py\" \"full_field_flicker.py\"\n",
    "%sendtofile --source=\"support.py\" \"support.py\"\n",
    "\n",
    "#reboot board\n",
    "%rebootdevice\n",
    "\n",
    "#print board contents\n",
    "%ls"
   ]
  },
  {
   "cell_type": "code",
   "execution_count": 29,
   "id": "300ded87-80e2-4ce7-8dbf-bc5c9f71e44b",
   "metadata": {},
   "outputs": [],
   "source": [
    "#import the FFF stimulus on the esp32\n",
    "import full_field_flicker as fff\n"
   ]
  },
  {
   "cell_type": "code",
   "execution_count": 30,
   "id": "3f042494-ca64-495c-aea3-b6b5d98af25e",
   "metadata": {},
   "outputs": [],
   "source": [
    "stimulus = fff.FFF()\n",
    "\n"
   ]
  },
  {
   "cell_type": "code",
   "execution_count": 31,
   "id": "ac650294-5d82-4891-9676-0dd82cae469d",
   "metadata": {},
   "outputs": [],
   "source": [
    "stimulus.baseline = 1*1000 #baseline interval in ms\n",
    "stimulus.onDuration  = 1*1000 #amount time each led is on in ms\n",
    "stimulus.offDuration = 1*1000 #amount time each led is off in ms\n",
    "stimulus.trials = 1 #number of trials"
   ]
  },
  {
   "cell_type": "code",
   "execution_count": 32,
   "id": "df5102f6-a5f4-4b3a-bc5a-9264ea88cc70",
   "metadata": {},
   "outputs": [
    {
     "name": "stdout",
     "output_type": "stream",
     "text": [
      "starting baseline... done baseline\n",
      "start trial 0\n",
      "LED on info:  PWM(19, freq=1000, duty=0) LED on info:  PWM(21, freq=1000, duty=0) LED on info:  PWM(14, freq=1000, duty=0) LED on info:  PWM(27, freq=1000, duty=0) LED on info:  PWM(26, freq=1000, duty=0) .LED on info:  PWM(25, freq=1000, duty=0) LED on info:  <PWM object at 3ffe6cc0>\n",
      "LED on info:  <PWM object at 3ffe6d50>\n",
      "LED on info:  <PWM object at 3ffe6f10>\n",
      ".LED on info:  <PWM object at 3ffe6f20>\n",
      "LED on info:  <PWM object at 3ffe7040>\n",
      "LED on info:  <PWM object at 3ffe7050>\n",
      ".end trial <PWM object at 3ffe7050>\n",
      "full field stimulation done\n"
     ]
    }
   ],
   "source": [
    "stimulus.start()"
   ]
  }
 ],
 "metadata": {
  "kernelspec": {
   "display_name": "MicroPython - USB",
   "language": "micropython",
   "name": "micropython"
  },
  "language_info": {
   "codemirror_mode": "python",
   "file_extension": ".py",
   "mimetype": "text/python",
   "name": "micropython"
  }
 },
 "nbformat": 4,
 "nbformat_minor": 5
}

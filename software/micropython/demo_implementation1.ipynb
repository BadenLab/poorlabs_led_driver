{
 "cells": [
  {
   "cell_type": "markdown",
   "id": "3c1637fb",
   "metadata": {},
   "source": [
    "### Demo on how to run stimulus on the Poorlabs system\n",
    "\n",
    "created by Chagas AM 16/12/2021\n",
    "Distributed under CC BY SA 4.0"
   ]
  },
  {
   "cell_type": "code",
   "execution_count": null,
   "id": "06669059",
   "metadata": {},
   "outputs": [
    {
     "name": "stdout",
     "output_type": "stream",
     "text": [
      "\u001b[34mExecuting:\n",
      "  esptool --port COM4 --chip esp32 write_flash -z 0x1000 .//esp32-20210902-v1.17.bin\n",
      "\n",
      "\u001b[0mesptool.py v3.2\n",
      "Serial port COM4\n",
      "Connecting.......\n",
      "\u001b[34m[Press the PRG button now if required]\n",
      "\u001b[0mChip is ESP32-D0WDQ6 (revision 1)\n",
      "Features: WiFi, BT, Dual Core, 240MHz, VRef calibration in efuse, Coding Scheme None\n",
      "Crystal is 40MHz\n",
      "MAC: 8c:aa:b5:93:53:7c\n",
      "Uploading stub...\n",
      "Running stub...\n",
      "Stub running...\n",
      "Configuring flash size...\n",
      "Flash will be erased from 0x00001000 to 0x00175fff...\n",
      "Compressed 1527504 bytes to 987584...\n",
      "Writing at 0x00001000... (1 %)\n",
      "Writing at 0x00011214... (3 %)\n",
      "Writing at 0x00019db3... (4 %)\n",
      "Writing at 0x00022645... (6 %)\n",
      "Writing at 0x000291a0... (8 %)\n",
      "Writing at 0x00031955... (9 %)\n",
      "Writing at 0x0003cdb5... (11 %)\n",
      "Writing at 0x000479a7... (13 %)\n",
      "Writing at 0x00053c6d... (14 %)\n",
      "Writing at 0x0005a0c6... (16 %)\n",
      "Writing at 0x0005fb0b... (18 %)\n",
      "Writing at 0x0006521c... (19 %)\n",
      "Writing at 0x0006a16d... (21 %)\n",
      "Writing at 0x0006f23d... (22 %)\n",
      "Writing at 0x0007465c... (24 %)\n",
      "Writing at 0x00079996... (26 %)\n",
      "Writing at 0x0007e9e7... (27 %)\n",
      "Writing at 0x000835ae... (29 %)\n",
      "Writing at 0x00088f24... (31 %)\n",
      "Writing at 0x0008f084... (32 %)\n",
      "Writing at 0x0009448d... (34 %)\n",
      "Writing at 0x00099691... (36 %)\n",
      "Writing at 0x0009f861... (37 %)\n",
      "Writing at 0x000a4c3e... (39 %)\n",
      "Writing at 0x000aa1d8... (40 %)\n",
      "Writing at 0x000b00b2... (42 %)\n"
     ]
    }
   ],
   "source": [
    "#%esptool  --port=com4 erase\n",
    "%esptool --port=COM4 esp32 \".//esp32-20210902-v1.17.bin\""
   ]
  },
  {
   "cell_type": "code",
   "execution_count": 27,
   "id": "0776665b",
   "metadata": {},
   "outputs": [
    {
     "name": "stdout",
     "output_type": "stream",
     "text": [
      "repl is in normal command mode\n",
      "[\\r\\x03\\x03] b'\\r\\nMicroPython v1.17 on 2021-09-02; ESP32 module with ESP32\\r\\nType \"help()\" for more information.\\r\\n>>> \\r\\n>>> \\r\\nMPY: soft reboot\\r\\nMicroPython v1.17 on 2021-09-02; ESP32 module with ESP32\\r\\nType \"help()\" for more information.\\r\\n>>> \\r\\n>>> \\r\\n>>> '\n",
      "[\\r\\x01] b'\\r\\n>>> \\r\\nraw REPL; CTRL-B to exit\\r\\n>'\u001b[34mConnecting to --port=com4 --baud=115200 \u001b[0m\n",
      "MicroPython v1.17 on 2021-09-02; ESP32 module with ESP32\n",
      "Type \"help()\" for more information.\n",
      ">>>[reboot detected 0]repl is in normal command mode\n",
      "[\\r\\x03\\x03] b'\\r\\n>>> '\n",
      "[\\r\\x01] b'\\r\\n>>> \\r\\nraw REPL; CTRL-B to exit\\r\\n>' \u001b[34mReady.\n",
      "\u001b[0m"
     ]
    }
   ],
   "source": [
    "#reboot board\n",
    "#%rebootdevice\n",
    "\n",
    "#connect to micropython board\n",
    "%serialconnect to --port=com4 --baud=115200\n",
    "\n",
    "\n",
    "\n",
    "\n"
   ]
  },
  {
   "cell_type": "markdown",
   "id": "c28fd2d9",
   "metadata": {},
   "source": [
    "#### Updating the code on the board:\n",
    "\n",
    "The code in the cell below shows how to send files on the host computer to the micropython board, reboot the board and show its contents"
   ]
  },
  {
   "cell_type": "code",
   "execution_count": 28,
   "id": "ae046698",
   "metadata": {},
   "outputs": [
    {
     "name": "stdout",
     "output_type": "stream",
     "text": [
      "Sent 40 lines (1331 bytes) to support.py.\n",
      "repl is in normal command mode\n",
      "[\\r\\x03\\x03] b'\\r\\nMicroPython v1.17 on 2021-09-02; ESP32 module with ESP32\\r\\nType \"help()\" for more information.\\r\\n>>> \\r\\n>>> \\r\\nMPY: soft reboot\\r\\nMicroPython v1.17 on 2021-09-02; ESP32 module with ESP32\\r\\nType \"help()\" for more information.\\r\\n>>> \\r\\n>>> \\r\\n>>> '\n",
      "[\\r\\x01] b'\\r\\n>>> \\r\\nraw REPL; CTRL-B to exit\\r\\n>'Listing directory '/'.\n",
      "      139    boot.py\n",
      "     1759    esp32_rmt_pwm.py\n",
      "     2266    full_field_flicker.py\n",
      "     2485    ports.py\n",
      "     1331    support.py\n"
     ]
    }
   ],
   "source": [
    "#send files to board\n",
    "%sendtofile --source=\"ports.py\" \"ports.py\"\n",
    "%sendtofile --source=\"esp32_rmt_pwm.py\" \"esp32_rmt_pwm.py\"\n",
    "%sendtofile --source=\"full_field_flicker.py\" \"full_field_flicker.py\"\n",
    "%sendtofile --source=\"support.py\" \"support.py\"\n",
    "\n",
    "#reboot board\n",
    "%rebootdevice\n",
    "\n",
    "#print board contents\n",
    "%ls"
   ]
  },
  {
   "cell_type": "code",
   "execution_count": 29,
   "id": "d5154127",
   "metadata": {},
   "outputs": [],
   "source": [
    "#import the FFF stimulus on the esp32\n",
    "import full_field_flicker as fff\n"
   ]
  },
  {
   "cell_type": "code",
   "execution_count": 30,
   "id": "e783fe6e",
   "metadata": {},
   "outputs": [],
   "source": [
    "stimulus = fff.FFF()\n",
    "\n"
   ]
  },
  {
   "cell_type": "code",
   "execution_count": 31,
   "id": "a542687b",
   "metadata": {},
   "outputs": [],
   "source": [
    "stimulus.baseline = 1*1000 #baseline interval in ms\n",
    "stimulus.onDuration  = 1*1000 #amount time each led is on in ms\n",
    "stimulus.offDuration = 1*1000 #amount time each led is off in ms\n",
    "stimulus.trials = 1 #number of trials"
   ]
  },
  {
   "cell_type": "code",
   "execution_count": 32,
   "id": "2ecb2dbf",
   "metadata": {},
   "outputs": [
    {
     "name": "stdout",
     "output_type": "stream",
     "text": [
      "starting baseline... done baseline\n",
      "start trial 0\n",
      "LED on info:  PWM(19, freq=1000, duty=0) LED on info:  PWM(21, freq=1000, duty=0) LED on info:  PWM(14, freq=1000, duty=0) LED on info:  PWM(27, freq=1000, duty=0) LED on info:  PWM(26, freq=1000, duty=0) .LED on info:  PWM(25, freq=1000, duty=0) LED on info:  <PWM object at 3ffe6cc0>\n",
      "LED on info:  <PWM object at 3ffe6d50>\n",
      "LED on info:  <PWM object at 3ffe6f10>\n",
      ".LED on info:  <PWM object at 3ffe6f20>\n",
      "LED on info:  <PWM object at 3ffe7040>\n",
      "LED on info:  <PWM object at 3ffe7050>\n",
      ".end trial <PWM object at 3ffe7050>\n",
      "full field stimulation done\n"
     ]
    }
   ],
   "source": [
    "stimulus.start()"
   ]
  }
 ],
 "metadata": {
  "kernelspec": {
   "display_name": "MicroPython - USB",
   "language": "micropython",
   "name": "micropython"
  },
  "language_info": {
   "codemirror_mode": "python",
   "file_extension": ".py",
   "mimetype": "text/python",
   "name": "micropython"
  }
 },
 "nbformat": 4,
 "nbformat_minor": 5
}
